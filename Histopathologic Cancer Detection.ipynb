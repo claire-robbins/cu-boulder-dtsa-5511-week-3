{
 "cells": [
  {
   "cell_type": "markdown",
   "metadata": {},
   "source": [
    "# Histopathologic Cancer Detection"
   ]
  },
  {
   "cell_type": "markdown",
   "metadata": {},
   "source": [
    "## Introduction"
   ]
  },
  {
   "cell_type": "markdown",
   "metadata": {},
   "source": [
    "Kaggle competition: https://www.kaggle.com/competitions/histopathologic-cancer-detection/"
   ]
  },
  {
   "cell_type": "markdown",
   "metadata": {},
   "source": [
    "The goal of this competition is to write an algorithm capable of identifying metastatic breast cancer from digital pathology scans. This clearly has strong implications in the medical imaging and diagnosis field. For the purpose of this class, we will be implementing a Convolutional Neural Network (CNN)."
   ]
  },
  {
   "cell_type": "markdown",
   "metadata": {},
   "source": [
    "## Setup"
   ]
  },
  {
   "cell_type": "code",
   "execution_count": 1,
   "metadata": {},
   "outputs": [],
   "source": [
    "# import statements\n",
    "import numpy as np\n",
    "import pandas as pd\n",
    "import matplotlib.pyplot as plt\n",
    "import math\n",
    "from keras.models import Sequential\n",
    "from keras.layers import Dense, Dropout, Flatten, BatchNormalization, Activation, Conv2D, MaxPooling2D, MaxPool2D\n",
    "from sklearn.model_selection import train_test_split\n",
    "from glob import glob\n",
    "from PIL import Image\n",
    "import os"
   ]
  },
  {
   "cell_type": "code",
   "execution_count": 2,
   "metadata": {},
   "outputs": [],
   "source": [
    "# path to data\n",
    "path = \"/Users/clairerobbins/Documents/MS-DS CU Boulder/Introduction to Deep Learning/Histopathologic Cancer Detection/histopathologic-cancer-detection/\" \n",
    "train_path = path + 'train/'\n",
    "test_path = path + 'test/'"
   ]
  },
  {
   "cell_type": "markdown",
   "metadata": {},
   "source": [
    "## EDA"
   ]
  },
  {
   "cell_type": "code",
   "execution_count": 3,
   "metadata": {},
   "outputs": [
    {
     "data": {
      "text/html": [
       "<div>\n",
       "<style scoped>\n",
       "    .dataframe tbody tr th:only-of-type {\n",
       "        vertical-align: middle;\n",
       "    }\n",
       "\n",
       "    .dataframe tbody tr th {\n",
       "        vertical-align: top;\n",
       "    }\n",
       "\n",
       "    .dataframe thead th {\n",
       "        text-align: right;\n",
       "    }\n",
       "</style>\n",
       "<table border=\"1\" class=\"dataframe\">\n",
       "  <thead>\n",
       "    <tr style=\"text-align: right;\">\n",
       "      <th></th>\n",
       "      <th>path</th>\n",
       "      <th>id</th>\n",
       "      <th>label</th>\n",
       "    </tr>\n",
       "  </thead>\n",
       "  <tbody>\n",
       "    <tr>\n",
       "      <th>0</th>\n",
       "      <td>/Users/clairerobbins/Documents/MS-DS CU Boulde...</td>\n",
       "      <td>99ef485f205645918613cd04281098daa7c17819</td>\n",
       "      <td>1</td>\n",
       "    </tr>\n",
       "    <tr>\n",
       "      <th>1</th>\n",
       "      <td>/Users/clairerobbins/Documents/MS-DS CU Boulde...</td>\n",
       "      <td>6d1bb57c0606f05dbd75f90a8d9e21a57e1267e0</td>\n",
       "      <td>0</td>\n",
       "    </tr>\n",
       "    <tr>\n",
       "      <th>2</th>\n",
       "      <td>/Users/clairerobbins/Documents/MS-DS CU Boulde...</td>\n",
       "      <td>9c043ab2adadfeb758c71d21432fccd3e43565c0</td>\n",
       "      <td>1</td>\n",
       "    </tr>\n",
       "  </tbody>\n",
       "</table>\n",
       "</div>"
      ],
      "text/plain": [
       "                                                path  \\\n",
       "0  /Users/clairerobbins/Documents/MS-DS CU Boulde...   \n",
       "1  /Users/clairerobbins/Documents/MS-DS CU Boulde...   \n",
       "2  /Users/clairerobbins/Documents/MS-DS CU Boulde...   \n",
       "\n",
       "                                         id  label  \n",
       "0  99ef485f205645918613cd04281098daa7c17819      1  \n",
       "1  6d1bb57c0606f05dbd75f90a8d9e21a57e1267e0      0  \n",
       "2  9c043ab2adadfeb758c71d21432fccd3e43565c0      1  "
      ]
     },
     "execution_count": 3,
     "metadata": {},
     "output_type": "execute_result"
    }
   ],
   "source": [
    "# define & clean train dataframe\n",
    "df_train = pd.DataFrame({'path': glob(os.path.join(train_path,'*.tif'))})\n",
    "df_train['id'] = df_train.path.map(lambda x: x.split('/')[9].split(\".\")[0])\n",
    "labels = pd.read_csv(train_path+\"train_labels.csv\")\n",
    "df_train = df_train.merge(labels, on = \"id\")\n",
    "df_train.head(3)"
   ]
  },
  {
   "cell_type": "code",
   "execution_count": 4,
   "metadata": {},
   "outputs": [
    {
     "data": {
      "image/png": "[encoded data removed]",
      "text/plain": [
       "<Figure size 600x600 with 1 Axes>"
      ]
     },
     "metadata": {},
     "output_type": "display_data"
    }
   ],
   "source": [
    "# visualize classification breakdown\n",
    "df_train['label'].value_counts().plot(figsize=(6,6),kind='pie',autopct='%.2f%%')\n",
    "plt.title('Train Label Distribution')\n",
    "plt.show()"
   ]
  },
  {
   "cell_type": "code",
   "execution_count": 5,
   "metadata": {},
   "outputs": [
    {
     "data": {
      "text/html": [
       "<div>\n",
       "<style scoped>\n",
       "    .dataframe tbody tr th:only-of-type {\n",
       "        vertical-align: middle;\n",
       "    }\n",
       "\n",
       "    .dataframe tbody tr th {\n",
       "        vertical-align: top;\n",
       "    }\n",
       "\n",
       "    .dataframe thead th {\n",
       "        text-align: right;\n",
       "    }\n",
       "</style>\n",
       "<table border=\"1\" class=\"dataframe\">\n",
       "  <thead>\n",
       "    <tr style=\"text-align: right;\">\n",
       "      <th></th>\n",
       "      <th>path</th>\n",
       "      <th>id</th>\n",
       "      <th>label</th>\n",
       "    </tr>\n",
       "  </thead>\n",
       "  <tbody>\n",
       "    <tr>\n",
       "      <th>0</th>\n",
       "      <td>/Users/clairerobbins/Documents/MS-DS CU Boulde...</td>\n",
       "      <td>fd0a060ef9c30c9a83f6b4bfb568db74b099154d</td>\n",
       "      <td>None</td>\n",
       "    </tr>\n",
       "    <tr>\n",
       "      <th>1</th>\n",
       "      <td>/Users/clairerobbins/Documents/MS-DS CU Boulde...</td>\n",
       "      <td>1f9ee06f06d329eb7902a2e03ab3835dd0484581</td>\n",
       "      <td>None</td>\n",
       "    </tr>\n",
       "    <tr>\n",
       "      <th>2</th>\n",
       "      <td>/Users/clairerobbins/Documents/MS-DS CU Boulde...</td>\n",
       "      <td>19709bec800f372d0b1d085da6933dd3ef108846</td>\n",
       "      <td>None</td>\n",
       "    </tr>\n",
       "  </tbody>\n",
       "</table>\n",
       "</div>"
      ],
      "text/plain": [
       "                                                path  \\\n",
       "0  /Users/clairerobbins/Documents/MS-DS CU Boulde...   \n",
       "1  /Users/clairerobbins/Documents/MS-DS CU Boulde...   \n",
       "2  /Users/clairerobbins/Documents/MS-DS CU Boulde...   \n",
       "\n",
       "                                         id label  \n",
       "0  fd0a060ef9c30c9a83f6b4bfb568db74b099154d  None  \n",
       "1  1f9ee06f06d329eb7902a2e03ab3835dd0484581  None  \n",
       "2  19709bec800f372d0b1d085da6933dd3ef108846  None  "
      ]
     },
     "execution_count": 5,
     "metadata": {},
     "output_type": "execute_result"
    }
   ],
   "source": [
    "# define & clean test dataframe\n",
    "df_test = pd.DataFrame({'path': glob(os.path.join(test_path,'*.tif'))})\n",
    "df_test['id'] = df_test.path.map(lambda x: x.split('/')[9].split(\".\")[0])\n",
    "df_test['label'] = [None for i in range(len(df_test))]\n",
    "df_test.head(3)"
   ]
  },
  {
   "cell_type": "markdown",
   "metadata": {},
   "source": [
    "## Model Development & Architecture"
   ]
  },
  {
   "cell_type": "markdown",
   "metadata": {},
   "source": [
    "In my initial set up, I chose to split my train data into train & validation data, to get a sense of how the model is performing in real time. Given the smaller image size, I started off with a simple model to minimize overfitting, and tuned my hyperparameters from that point. Additionally, I found I had to clean the data because some of the files downloaded from the were erroneous."
   ]
  },
  {
   "cell_type": "code",
   "execution_count": 6,
   "metadata": {},
   "outputs": [],
   "source": [
    "# split into train & validate datasets\n",
    "train, validate = train_test_split(df_train, test_size=0.2)"
   ]
  },
  {
   "cell_type": "code",
   "execution_count": 7,
   "metadata": {},
   "outputs": [],
   "source": [
    "# extract image metadata from each train image & drop invalid files\n",
    "def clean_files(df):\n",
    "    raw_data = []\n",
    "    labels = []\n",
    "    for index,row in df.iterrows():\n",
    "        try:\n",
    "            raw_data.append(np.array(Image.open(row['path'])))\n",
    "            labels.append(row['label'])\n",
    "        except:\n",
    "            pass\n",
    "    return np.array(raw_data), np.array(labels)"
   ]
  },
  {
   "cell_type": "code",
   "execution_count": 8,
   "metadata": {},
   "outputs": [],
   "source": [
    "# run clean function on data\n",
    "train_raw, train_labels = clean_files(train)\n",
    "validate_raw, validate_labels = clean_files(validate)"
   ]
  },
  {
   "cell_type": "code",
   "execution_count": 9,
   "metadata": {},
   "outputs": [
    {
     "name": "stdout",
     "output_type": "stream",
     "text": [
      "Model: \"sequential\"\n",
      "_________________________________________________________________\n",
      " Layer (type)                Output Shape              Param #   \n",
      "=================================================================\n",
      " conv2d (Conv2D)             (None, 94, 94, 16)        448       \n",
      "                                                                 \n",
      " batch_normalization (Batch  (None, 94, 94, 16)        64        \n",
      " Normalization)                                                  \n",
      "                                                                 \n",
      " activation (Activation)     (None, 94, 94, 16)        0         \n",
      "                                                                 \n",
      " max_pooling2d (MaxPooling2  (None, 47, 47, 16)        0         \n",
      " D)                                                              \n",
      "                                                                 \n",
      " dropout (Dropout)           (None, 47, 47, 16)        0         \n",
      "                                                                 \n",
      " conv2d_1 (Conv2D)           (None, 45, 45, 32)        4640      \n",
      "                                                                 \n",
      " batch_normalization_1 (Bat  (None, 45, 45, 32)        128       \n",
      " chNormalization)                                                \n",
      "                                                                 \n",
      " activation_1 (Activation)   (None, 45, 45, 32)        0         \n",
      "                                                                 \n",
      " max_pooling2d_1 (MaxPoolin  (None, 22, 22, 32)        0         \n",
      " g2D)                                                            \n",
      "                                                                 \n",
      " dropout_1 (Dropout)         (None, 22, 22, 32)        0         \n",
      "                                                                 \n",
      " conv2d_2 (Conv2D)           (None, 20, 20, 64)        18496     \n",
      "                                                                 \n",
      " batch_normalization_2 (Bat  (None, 20, 20, 64)        256       \n",
      " chNormalization)                                                \n",
      "                                                                 \n",
      " activation_2 (Activation)   (None, 20, 20, 64)        0         \n",
      "                                                                 \n",
      " max_pooling2d_2 (MaxPoolin  (None, 10, 10, 64)        0         \n",
      " g2D)                                                            \n",
      "                                                                 \n",
      " dropout_2 (Dropout)         (None, 10, 10, 64)        0         \n",
      "                                                                 \n",
      " flatten (Flatten)           (None, 6400)              0         \n",
      "                                                                 \n",
      " dense (Dense)               (None, 128)               819328    \n",
      "                                                                 \n",
      " batch_normalization_3 (Bat  (None, 128)               512       \n",
      " chNormalization)                                                \n",
      "                                                                 \n",
      " activation_3 (Activation)   (None, 128)               0         \n",
      "                                                                 \n",
      " dropout_3 (Dropout)         (None, 128)               0         \n",
      "                                                                 \n",
      " dense_1 (Dense)             (None, 1)                 129       \n",
      "                                                                 \n",
      "=================================================================\n",
      "Total params: 844001 (3.22 MB)\n",
      "Trainable params: 843521 (3.22 MB)\n",
      "Non-trainable params: 480 (1.88 KB)\n",
      "_________________________________________________________________\n"
     ]
    }
   ],
   "source": [
    "kernel_size = (3, 3)\n",
    "pool_size = (2, 2)\n",
    "first_filters = 16\n",
    "second_filters = 32\n",
    "third_filters = 64\n",
    "\n",
    "dropout_conv = 0.2\n",
    "dropout_dense = 0.4\n",
    "\n",
    "model = Sequential()\n",
    "\n",
    "# Conv layer 1\n",
    "model.add(Conv2D(first_filters, kernel_size, input_shape=(96, 96, 3)))\n",
    "model.add(BatchNormalization())\n",
    "model.add(Activation(\"relu\"))\n",
    "model.add(MaxPool2D(pool_size=pool_size))\n",
    "model.add(Dropout(dropout_conv))\n",
    "\n",
    "# Conv layer 2\n",
    "model.add(Conv2D(second_filters, kernel_size))\n",
    "model.add(BatchNormalization())\n",
    "model.add(Activation(\"relu\"))\n",
    "model.add(MaxPool2D(pool_size=pool_size))\n",
    "model.add(Dropout(dropout_conv))\n",
    "\n",
    "# Conv layer 3\n",
    "model.add(Conv2D(third_filters, kernel_size))\n",
    "model.add(BatchNormalization())\n",
    "model.add(Activation(\"relu\"))\n",
    "model.add(MaxPool2D(pool_size=pool_size))\n",
    "model.add(Dropout(dropout_conv))\n",
    "\n",
    "# Fully connected (dense) layer\n",
    "model.add(Flatten())\n",
    "model.add(Dense(128))\n",
    "model.add(BatchNormalization())\n",
    "model.add(Activation(\"relu\"))\n",
    "model.add(Dropout(dropout_dense))\n",
    "\n",
    "# Activation function\n",
    "model.add(Dense(1, activation=\"sigmoid\"))\n",
    "\n",
    "batch_size = 64\n",
    "model.compile(loss='binary_crossentropy',\n",
    "              optimizer='adam', \n",
    "              metrics=['accuracy'])\n",
    "model.summary()"
   ]
  },
  {
   "cell_type": "code",
   "execution_count": 10,
   "metadata": {},
   "outputs": [
    {
     "name": "stdout",
     "output_type": "stream",
     "text": [
      "Epoch 1/10\n",
      "3530/3530 [==============================] - 162s 46ms/step - loss: 0.3989 - accuracy: 0.8264 - val_loss: 0.7339 - val_accuracy: 0.6742\n",
      "Epoch 2/10\n",
      "3530/3530 [==============================] - 155s 44ms/step - loss: 0.3429 - accuracy: 0.8545 - val_loss: 0.4416 - val_accuracy: 0.7947\n",
      "Epoch 3/10\n",
      "3530/3530 [==============================] - 159s 45ms/step - loss: 0.2981 - accuracy: 0.8771 - val_loss: 0.3924 - val_accuracy: 0.8252\n",
      "Epoch 5/10\n",
      "3530/3530 [==============================] - 159s 45ms/step - loss: 0.2635 - accuracy: 0.8931 - val_loss: 0.5034 - val_accuracy: 0.7757\n",
      "Epoch 7/10\n",
      "3530/3530 [==============================] - 159s 45ms/step - loss: 0.2502 - accuracy: 0.9009 - val_loss: 0.6774 - val_accuracy: 0.8097\n",
      "Epoch 8/10\n",
      "3530/3530 [==============================] - 158s 45ms/step - loss: 0.2401 - accuracy: 0.9056 - val_loss: 0.6318 - val_accuracy: 0.7655\n",
      "Epoch 9/10\n",
      "3530/3530 [==============================] - 158s 45ms/step - loss: 0.2308 - accuracy: 0.9092 - val_loss: 0.2291 - val_accuracy: 0.9058\n",
      "Epoch 10/10\n",
      "3530/3530 [==============================] - 160s 45ms/step - loss: 0.2254 - accuracy: 0.9126 - val_loss: 0.2266 - val_accuracy: 0.9093\n"
     ]
    },
    {
     "data": {
      "text/plain": [
       "<keras.src.callbacks.History at 0x29fe0f0d0>"
      ]
     },
     "execution_count": 10,
     "metadata": {},
     "output_type": "execute_result"
    }
   ],
   "source": [
    "# model fit\n",
    "model.fit(train_raw, train_labels, epochs=10, validation_data=(validate_raw, validate_labels))"
   ]
  },
  {
   "cell_type": "code",
   "execution_count": null,
   "metadata": {},
   "outputs": [],
   "source": []
  },
  {
   "cell_type": "markdown",
   "metadata": {},
   "source": [
    "## Hyperparameter Tuning & Analysis"
   ]
  },
  {
   "cell_type": "markdown",
   "metadata": {},
   "source": [
    "Here is my rationale for the chosen hyperparameters:\n",
    "\n",
    "1. **Reduced Number of Filters**:\n",
    "   - Improve training times while still capturing relevant features in your images and prevent overfitting\n",
    "\n",
    "2. **Adjusted Dropout Rates**:\n",
    "   - Retaining more information from the network's activations\n",
    "\n",
    "3. **Smaller Dense Layer (128 neurons)**:\n",
    "   - Reduced dense layer from 256 neurons to 128 neurons, to execute faster training and less risk of overfitting\n",
    "\n",
    "4. **Batch Normalization**:\n",
    "   - Faster convergence and better generalization\n",
    "\n",
    "5. **Activation Functions**:\n",
    "   - ReLU (Rectified Linear Activation) is used as the activation function after each convolutional and dense layer.\n",
    "   - Computationally efficient and helps mitigate the vanishing gradient problem\n",
    "\n",
    "6. **Loss Function and Optimizer**:\n",
    "   - Binary cross-entropy loss is a natural choice for binary classification\n",
    "   - The Adam optimizer is chosen for its adaptive learning rate and efficient convergence"
   ]
  },
  {
   "cell_type": "markdown",
   "metadata": {},
   "source": [
    "## Predictions"
   ]
  },
  {
   "cell_type": "code",
   "execution_count": 11,
   "metadata": {},
   "outputs": [],
   "source": [
    "# extract image metadata from each test image\n",
    "def clean_files_test(df):\n",
    "    ids = []\n",
    "    raw_data = []\n",
    "    for index,row in df.iterrows():\n",
    "        raw_data.append(np.array(Image.open(row['path'])))\n",
    "    return np.array(raw_data)"
   ]
  },
  {
   "cell_type": "code",
   "execution_count": 12,
   "metadata": {},
   "outputs": [],
   "source": [
    "# run clean function on test data\n",
    "test_raw = clean_files_test(df_test)"
   ]
  },
  {
   "cell_type": "code",
   "execution_count": 13,
   "metadata": {},
   "outputs": [
    {
     "name": "stdout",
     "output_type": "stream",
     "text": [
      "1796/1796 [==============================] - 18s 10ms/step\n"
     ]
    }
   ],
   "source": [
    "# predict using trained model\n",
    "predictions = model.predict(test_raw)"
   ]
  },
  {
   "cell_type": "code",
   "execution_count": 14,
   "metadata": {},
   "outputs": [],
   "source": [
    "# convert prediction percentages to binary classification\n",
    "final_predictions = []\n",
    "for i in predictions:\n",
    "    if i > 0.5:\n",
    "        final_predictions.append(1)\n",
    "    else:\n",
    "        final_predictions.append(0)"
   ]
  },
  {
   "cell_type": "code",
   "execution_count": 15,
   "metadata": {},
   "outputs": [],
   "source": [
    "# generate submission file\n",
    "submission = pd.DataFrame({'id': df_test['id'], 'label': final_predictions})\n",
    "submission.to_csv('submission.csv')"
   ]
  },
  {
   "cell_type": "markdown",
   "metadata": {},
   "source": [
    "## Conclusion"
   ]
  },
  {
   "cell_type": "markdown",
   "metadata": {},
   "source": [
    "My model achieved a 91% accuracy on the training data, 90% on the validation data, and 85% on my kaggle submission. This indicates there was some aspect of overfitting, although not an agregious amount.\n",
    "\n",
    "In an effort to prevent overfitting, I implemented concepts such as fewer filters per convolutional layer and coupled with calibrated dropout rates. This project aimed to excel in pinpointing cancerous patterns within small digital pathology images. Progress in this space fuels the ongoing quest for sharper, swifter cancer diagnoses, propelling CNNs' potential in medical diagnostics."
   ]
  }
 ],
 "metadata": {
  "kernelspec": {
   "display_name": "Python 3 (ipykernel)",
   "language": "python",
   "name": "python3"
  },
  "language_info": {
   "codemirror_mode": {
    "name": "ipython",
    "version": 3
   },
   "file_extension": ".py",
   "mimetype": "text/x-python",
   "name": "python",
   "nbconvert_exporter": "python",
   "pygments_lexer": "ipython3",
   "version": "3.11.3"
  }
 },
 "nbformat": 4,
 "nbformat_minor": 2
}
